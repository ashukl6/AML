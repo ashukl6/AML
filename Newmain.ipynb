{
 "cells": [
  {
   "cell_type": "code",
   "execution_count": 12,
   "metadata": {},
   "outputs": [],
   "source": [
    "import matplotlib.pyplot as plt\n",
    "import os\n",
    "import json\n",
    "import pandas as pd\n",
    "import numpy as np\n",
    "from pandas.io.json import json_normalize\n",
    "import random\n",
    "from sklearn.model_selection import train_test_split\n",
    "from sklearn.tree import DecisionTreeClassifier\n",
    "import warnings\n",
    "warnings.filterwarnings('ignore')\n",
    "from sklearn.metrics import classification_report\n",
    "from scipy import stats\n"
   ]
  },
  {
   "cell_type": "code",
   "execution_count": 13,
   "metadata": {},
   "outputs": [
    {
     "name": "stdout",
     "output_type": "stream",
     "text": [
      "Loaded train.csv. Shape: (903653, 55)\n",
      "loaded\n"
     ]
    }
   ],
   "source": [
    "\n",
    "\n",
    "def load_df(csv_path='./data/train.csv', nrows=None):\n",
    "    JSON_COLUMNS = ['device', 'geoNetwork', 'totals', 'trafficSource']\n",
    "    #p=0.1\n",
    "    df = pd.read_csv(csv_path,\n",
    "                     converters={column: json.loads for column in JSON_COLUMNS},\n",
    "                     dtype={'fullVisitorId': 'str'}, nrows=nrows, )# Important!!\n",
    "                      #skiprows=lambda i: i > 0 and random.random() > p)\n",
    "\n",
    "    for column in JSON_COLUMNS:\n",
    "        column_as_df = json_normalize(df[column])\n",
    "        column_as_df.columns = [f\"{column}.{subcolumn}\" for subcolumn in column_as_df.columns]\n",
    "        df = df.drop(column, axis=1).merge(column_as_df, right_index=True, left_index=True)\n",
    "    print(f\"Loaded {os.path.basename(csv_path)}. Shape: {df.shape}\")\n",
    "    return df\n",
    "\n",
    "train_df = load_df()\n",
    "print(\"loaded\")\n"
   ]
  },
  {
   "cell_type": "code",
   "execution_count": 14,
   "metadata": {},
   "outputs": [
    {
     "name": "stdout",
     "output_type": "stream",
     "text": [
      "False    892138\n",
      "True      11515\n",
      "Name: shops or not, dtype: int64\n",
      "(903653, 33)\n",
      "(903653, 29)\n"
     ]
    }
   ],
   "source": [
    "#pd.set_option('display.max_columns', None)\n",
    "\n",
    "train_df[\"totals.transactionRevenue\"] = train_df[\"totals.transactionRevenue\"].astype('float')\n",
    "train_df['shops or not'] = train_df['totals.transactionRevenue'].values > 0\n",
    "\n",
    "print(pd.value_counts(train_df['shops or not']))\n",
    "\n",
    "def date_format(df):\n",
    "    df['date'] = pd.to_datetime(df['date'], unit='s')\n",
    "    df['vis_date'] = pd.to_datetime(df['visitStartTime'], unit='s')\n",
    "    df['sess_date_dow'] = df['vis_date'].dt.dayofweek\n",
    "    df['sess_date_hours'] = df['vis_date'].dt.hour\n",
    "    df['sess_date_dom'] = df['vis_date'].dt.day\n",
    "\n",
    "date_format(train_df)\n",
    "\n",
    "excluded_features =['socialEngagementType','totals.visits','totals.newVisits','device.browserVersion','device.flashVersion',\n",
    "\n",
    "         'device.language','device.browserSize','device.mobileDeviceInfo','device.mobileDeviceMarketingName',\n",
    "\n",
    "         'device.mobileDeviceModel','device.mobileInputSelector','device.operatingSystemVersion',\n",
    "\n",
    "         'device.screenColors','device.screenResolution','device.mobileDeviceBranding','geoNetwork.cityId',\n",
    "\n",
    "          'geoNetwork.latitude','geoNetwork.longitude','geoNetwork.networkLocation',\n",
    "\n",
    "          'trafficSource.adwordsClickInfo.criteriaParameters',\n",
    "\n",
    "                    # 'trafficSource.campaignCode',\n",
    "\n",
    "            'trafficSource.campaign','trafficSource.adContent','trafficSource.adwordsClickInfo.adNetworkType',\n",
    "\n",
    "            'trafficSource.adwordsClickInfo.gclId','trafficSource.adwordsClickInfo.isVideoAd',\n",
    "\n",
    "            'trafficSource.adwordsClickInfo.page','trafficSource.adwordsClickInfo.slot']\n",
    "\n",
    "A=train_df.drop(excluded_features,axis=1)\n",
    "\n",
    "print(A.shape)\n",
    "\n",
    "replace_null_values={'trafficSource.isTrueDirect': 'False', 'trafficSource.keyword': 'unknown',\n",
    "\n",
    "                     'trafficSource.referralPath': 'unknown'}\n",
    "\n",
    "B=A.fillna(value=replace_null_values)\n",
    "\n",
    "\n",
    "categorical_features = [\n",
    "\n",
    "    _f for _f in B.columns\n",
    "\n",
    "    if (B[_f].dtype == 'object')\n",
    "\n",
    "]\n",
    "\n",
    "\n",
    "\n",
    "#print(categorical_features)\n",
    "\n",
    "\n",
    "\n",
    "for f in categorical_features:\n",
    "\n",
    "    B[f], indexer = pd.factorize(B[f])\n",
    "\n",
    "\n",
    "\n",
    "M=B.drop(['shops or not','date','vis_date','totals.transactionRevenue'],axis=1)\n",
    "\n",
    "y=B['shops or not']\n",
    "\n",
    "# y=train_df['shops or not']\n",
    "\n",
    "\n",
    "\n",
    "#28 columns\n",
    "\n",
    "print(M.shape)"
   ]
  },
  {
   "cell_type": "code",
   "execution_count": 15,
   "metadata": {},
   "outputs": [
    {
     "name": "stdout",
     "output_type": "stream",
     "text": [
      "                       feature  importance\n",
      "18                 totals.hits    0.226341\n",
      "19            totals.pageviews    0.176751\n",
      "17              totals.bounces    0.070119\n",
      "11        geoNetwork.continent    0.046093\n",
      "5               visitStartTime    0.036001\n",
      "27             sess_date_hours    0.035738\n",
      "3                      visitId    0.035118\n",
      "1                fullVisitorId    0.034333\n",
      "2                    sessionId    0.033153\n",
      "28               sess_date_dom    0.030222\n",
      "4                  visitNumber    0.026275\n",
      "26               sess_date_dow    0.026088\n",
      "21  trafficSource.isTrueDirect    0.025972\n",
      "14    geoNetwork.networkDomain    0.023808\n",
      "0              channelGrouping    0.020838\n",
      "10             geoNetwork.city    0.019889\n",
      "9       device.operatingSystem    0.019556\n",
      "13            geoNetwork.metro    0.018572\n",
      "15           geoNetwork.region    0.018270\n",
      "16     geoNetwork.subContinent    0.017636\n",
      "8              device.isMobile    0.010938\n",
      "12          geoNetwork.country    0.010464\n",
      "6               device.browser    0.008753\n",
      "23        trafficSource.medium    0.008244\n",
      "25        trafficSource.source    0.006465\n",
      "24  trafficSource.referralPath    0.005887\n",
      "7        device.deviceCategory    0.004389\n",
      "22       trafficSource.keyword    0.004087\n",
      "20  trafficSource.campaignCode    0.000000\n",
      "['trafficSource.campaignCode']\n"
     ]
    },
    {
     "data": {
      "image/png": "[encoded data removed]",
      "text/plain": [
       "<Figure size 576x864 with 1 Axes>"
      ]
     },
     "metadata": {
      "needs_background": "light"
     },
     "output_type": "display_data"
    }
   ],
   "source": [
    "# feature selection\n",
    "from sklearn.ensemble import ExtraTreesClassifier\n",
    "# here criterion='entropy'  for the information gain, 'gini' for the Gini impurity \n",
    "model = ExtraTreesClassifier(criterion='entropy')\n",
    "model.fit(M,y)\n",
    "\n",
    "imp_df = pd.DataFrame()\n",
    "imp_df['feature'] = M.columns\n",
    "imp_df['importance'] = model.feature_importances_\n",
    "\n",
    "print(imp_df.sort_values('importance', ascending=False))\n",
    "\n",
    "import seaborn as sns\n",
    "import matplotlib.pyplot as plt\n",
    "\n",
    "plt.figure(figsize=(8, 12))\n",
    "sns.barplot(x='importance', y='feature', data=imp_df.sort_values('importance', ascending=False))\n",
    "\n",
    "imp_df = imp_df[imp_df['importance'].astype('float') < 0.0005] \n",
    "\n",
    "dropFeatures = imp_df['feature'].values \n",
    "print(dropFeatures)\n",
    "\n",
    "M=M.drop(dropFeatures,axis=1)"
   ]
  },
  {
   "cell_type": "code",
   "execution_count": 17,
   "metadata": {},
   "outputs": [
    {
     "name": "stdout",
     "output_type": "stream",
     "text": [
      "recall:       0.3051377513030529\n",
      "precision:    0.3558836300477638\n",
      "f1_score:     0.3285628382441371\n",
      "\n",
      "confusion_matrix:\n",
      " [[882806   7417]\n",
      " [  9332   4098]]\n",
      "prob\n",
      "(903653, 28)\n",
      "(903653,)\n"
     ]
    }
   ],
   "source": [
    "from sklearn.model_selection import KFold, GroupKFold\n",
    "from imblearn.over_sampling import SMOTE\n",
    "from sklearn.metrics import recall_score,precision_score,f1_score\n",
    "from sklearn.metrics import confusion_matrix,classification_report\n",
    "\n",
    "\n",
    "folds = GroupKFold(n_splits=5)\n",
    "oof_clf_preds = np.zeros(M.shape[0])\n",
    "\n",
    "for fold_, (trn_, val_) in enumerate(folds.split(M, y, groups=M['fullVisitorId'])):\n",
    "    trn_x, trn_y = M.iloc[trn_], y.iloc[trn_]\n",
    "    val_x, val_y = M.iloc[val_], y.iloc[val_]\n",
    "\n",
    "    #using smote     \n",
    "    sm = SMOTE(random_state=2)\n",
    "    trn_xSampled,trn_ySampled = sm.fit_sample(trn_x, trn_y)\n",
    " \n",
    "    #using class weight for imbalanced data\n",
    "    #DecTreeModel = DecisionTreeClassifier(class_weight={0:1,1:7})\n",
    "    DecTreeModel = DecisionTreeClassifier()\n",
    "    DecTreeModel.fit(trn_xSampled,trn_ySampled)\n",
    "    oof_clf_preds[val_] = DecTreeModel.predict_proba(val_x)[:,1]\n",
    "\n",
    "#print(classification_report(y, oof_clf_preds))    \n",
    "def eval_metric(prediction, truth):\n",
    "    print(\"recall:       {}\".format(recall_score(prediction, truth)))\n",
    "    print(\"precision:    {}\".format(precision_score(prediction, truth)))\n",
    "    print(\"f1_score:     {}\".format(f1_score(prediction, truth)))\n",
    "    print(\"\\nconfusion_matrix:\\n\",confusion_matrix(prediction, truth))\n",
    "\n",
    "eval_metric(oof_clf_preds,y)    \n",
    "print(\"prob\")\n",
    "print(M.shape)\n",
    "print(oof_clf_preds.shape)\n"
   ]
  },
  {
   "cell_type": "code",
   "execution_count": 18,
   "metadata": {},
   "outputs": [
    {
     "name": "stdout",
     "output_type": "stream",
     "text": [
      "(903653, 29)\n",
      "DescribeResult(nobs=903653, minmax=(0.0, 23129500000.0), mean=1704272.8126836296, variance=2785586878006657.0, skewness=207.8943218561069, kurtosis=69866.38533551784)\n",
      "DescribeResult(nobs=903653, minmax=(0.0, 10589140000.0), mean=2116946.8922252236, variance=2200733324421268.8, skewness=83.52708839807791, kurtosis=12018.64138415899)\n"
     ]
    },
    {
     "data": {
      "text/plain": [
       "2.449490708373825"
      ]
     },
     "execution_count": 18,
     "metadata": {},
     "output_type": "execute_result"
    }
   ],
   "source": [
    "M['non_zero_proba'] = oof_clf_preds\n",
    "\n",
    "print(M.shape)\n",
    "from sklearn.tree import DecisionTreeRegressor\n",
    "\n",
    "oof_reg_preds = np.zeros(M.shape[0])\n",
    "\n",
    "y1 = train_df[\"totals.transactionRevenue\"].fillna(0)\n",
    "\n",
    "for fold_, (trn_, val_) in enumerate(folds.split(M, y1, groups=M['fullVisitorId'])):\n",
    "    trn_x, trn_y = M.iloc[trn_], y1.iloc[trn_]\n",
    "    val_x, val_y = M.iloc[val_], y1.iloc[val_]\n",
    "    \n",
    "   \n",
    "    DecTreeReg = DecisionTreeRegressor()\n",
    "    DecTreeReg.fit(trn_x,trn_y)\n",
    "    oof_reg_preds[val_] = DecTreeReg.predict(val_x)\n",
    "\n",
    "\n",
    "print(stats.describe(y1))    \n",
    "print(stats.describe(oof_reg_preds))\n",
    "\n",
    "\n",
    "from sklearn.metrics import mean_squared_error    \n",
    "mean_squared_error(np.log1p(y1), np.log1p(oof_reg_preds)) ** .5 \n"
   ]
  },
  {
   "cell_type": "code",
   "execution_count": null,
   "metadata": {},
   "outputs": [],
   "source": []
  }
 ],
 "metadata": {
  "kernelspec": {
   "display_name": "Python 3",
   "language": "python",
   "name": "python3"
  },
  "language_info": {
   "codemirror_mode": {
    "name": "ipython",
    "version": 3
   },
   "file_extension": ".py",
   "mimetype": "text/x-python",
   "name": "python",
   "nbconvert_exporter": "python",
   "pygments_lexer": "ipython3",
   "version": "3.7.0"
  }
 },
 "nbformat": 4,
 "nbformat_minor": 2
}
